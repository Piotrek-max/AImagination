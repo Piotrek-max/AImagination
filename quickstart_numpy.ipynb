{
 "cells": [
  {
   "cell_type": "markdown",
   "id": "b91fcb38-f90b-4938-9403-49504c8282ac",
   "metadata": {
    "tags": []
   },
   "source": [
    "## Basics"
   ]
  },
  {
   "cell_type": "code",
   "execution_count": 36,
   "id": "d945d5b2-8e62-48f5-b911-71a061280371",
   "metadata": {
    "tags": []
   },
   "outputs": [],
   "source": [
    "import numpy as np\n",
    "import matplotlib.pyplot as plt"
   ]
  },
  {
   "cell_type": "code",
   "execution_count": 4,
   "id": "cae0f5bd-ef42-4a42-8504-4c0a656e706e",
   "metadata": {
    "tags": []
   },
   "outputs": [
    {
     "data": {
      "text/plain": [
       "array([ 0,  1,  2,  3,  4,  5,  6,  7,  8,  9, 10, 11, 12, 13, 14])"
      ]
     },
     "execution_count": 4,
     "metadata": {},
     "output_type": "execute_result"
    }
   ],
   "source": [
    "a = np.arange(15)\n",
    "a"
   ]
  },
  {
   "cell_type": "code",
   "execution_count": 8,
   "id": "e16c1e0d-1ebe-4aa0-887b-44a14ac5d2e9",
   "metadata": {
    "tags": []
   },
   "outputs": [
    {
     "data": {
      "text/plain": [
       "array([[ 0,  1,  2,  3,  4],\n",
       "       [ 5,  6,  7,  8,  9],\n",
       "       [10, 11, 12, 13, 14]])"
      ]
     },
     "execution_count": 8,
     "metadata": {},
     "output_type": "execute_result"
    }
   ],
   "source": [
    "b = a.reshape((3,5))\n",
    "b"
   ]
  },
  {
   "cell_type": "code",
   "execution_count": 6,
   "id": "ee4eab46-ce94-43c7-9139-971e2cfca7d5",
   "metadata": {
    "tags": []
   },
   "outputs": [
    {
     "data": {
      "text/plain": [
       "(15,)"
      ]
     },
     "execution_count": 6,
     "metadata": {},
     "output_type": "execute_result"
    }
   ],
   "source": [
    "a.shape"
   ]
  },
  {
   "cell_type": "code",
   "execution_count": 9,
   "id": "89b0c2de-4d10-4d1a-b487-ab02b9549fd8",
   "metadata": {
    "tags": []
   },
   "outputs": [
    {
     "data": {
      "text/plain": [
       "(3, 5)"
      ]
     },
     "execution_count": 9,
     "metadata": {},
     "output_type": "execute_result"
    }
   ],
   "source": [
    "b.shape"
   ]
  },
  {
   "cell_type": "code",
   "execution_count": 10,
   "id": "beb9ed76-34aa-42f9-acd4-7ddffd5e0c74",
   "metadata": {
    "tags": []
   },
   "outputs": [
    {
     "data": {
      "text/plain": [
       "dtype('int32')"
      ]
     },
     "execution_count": 10,
     "metadata": {},
     "output_type": "execute_result"
    }
   ],
   "source": [
    "a.dtype"
   ]
  },
  {
   "cell_type": "code",
   "execution_count": 11,
   "id": "48b59fab-547d-4b1b-b856-79119d17f932",
   "metadata": {
    "tags": []
   },
   "outputs": [
    {
     "data": {
      "text/plain": [
       "4"
      ]
     },
     "execution_count": 11,
     "metadata": {},
     "output_type": "execute_result"
    }
   ],
   "source": [
    "a.itemsize"
   ]
  },
  {
   "cell_type": "markdown",
   "id": "0ce9ed42-c502-4fba-ab21-30b1a3791110",
   "metadata": {
    "tags": []
   },
   "source": [
    "## Array creation"
   ]
  },
  {
   "cell_type": "markdown",
   "id": "8b4ec8f1-10fd-498d-a458-f775890cdf5b",
   "metadata": {},
   "source": [
    "From python array"
   ]
  },
  {
   "cell_type": "code",
   "execution_count": 15,
   "id": "7d0d01fc-7598-4345-98c1-362bbe7a33f4",
   "metadata": {
    "tags": []
   },
   "outputs": [],
   "source": [
    "a1 = np.array([2,3,4])\n",
    "a2 = np.array([1.,2.3,5.4])"
   ]
  },
  {
   "cell_type": "code",
   "execution_count": 18,
   "id": "1f9da0f8-ec5c-47ed-b19e-9df2d10280fd",
   "metadata": {
    "tags": []
   },
   "outputs": [
    {
     "data": {
      "text/plain": [
       "array([[1, 2, 3],\n",
       "       [4, 5, 6]])"
      ]
     },
     "execution_count": 18,
     "metadata": {},
     "output_type": "execute_result"
    }
   ],
   "source": [
    "a2d = np.array([[1,2,3],[4,5,6]])\n",
    "a2d"
   ]
  },
  {
   "cell_type": "markdown",
   "id": "cc677ce8-4e64-4b0d-a5d4-7aec3d776956",
   "metadata": {},
   "source": [
    ".ones .zeros .empty - ```[1,1,1], [0,0,0], [3.73603959e-262, 6.02658058e-154, 6.55490914e-260]``` - by default are floats. specify dtype=int16 ..."
   ]
  },
  {
   "cell_type": "code",
   "execution_count": 23,
   "id": "81d87620-55f8-4646-9e32-044b3b2c816b",
   "metadata": {
    "tags": []
   },
   "outputs": [
    {
     "data": {
      "text/plain": [
       "array([[[1., 1., 1.],\n",
       "        [1., 1., 1.]],\n",
       "\n",
       "       [[1., 1., 1.],\n",
       "        [1., 1., 1.]]])"
      ]
     },
     "execution_count": 23,
     "metadata": {},
     "output_type": "execute_result"
    }
   ],
   "source": [
    "np.ones((2,2,3))"
   ]
  },
  {
   "cell_type": "code",
   "execution_count": 21,
   "id": "c0f3684c-8ad7-4c8c-8eb7-26bee0f66f9d",
   "metadata": {
    "tags": []
   },
   "outputs": [
    {
     "data": {
      "text/plain": [
       "array([[0, 0],\n",
       "       [0, 0]], dtype=int64)"
      ]
     },
     "execution_count": 21,
     "metadata": {},
     "output_type": "execute_result"
    }
   ],
   "source": [
    "np.zeros((2,2),dtype=np.int64)"
   ]
  },
  {
   "cell_type": "code",
   "execution_count": 22,
   "id": "54c9736a-c298-4b8c-8182-f5f64cdd5be6",
   "metadata": {
    "tags": []
   },
   "outputs": [
    {
     "data": {
      "text/plain": [
       "array([[0., 0., 0.],\n",
       "       [0., 0., 0.],\n",
       "       [0., 0., 0.],\n",
       "       [0., 0., 0.]])"
      ]
     },
     "execution_count": 22,
     "metadata": {},
     "output_type": "execute_result"
    }
   ],
   "source": [
    "np.empty((4,3))"
   ]
  },
  {
   "cell_type": "markdown",
   "id": "bf8b0dd9-ccd4-42b6-8dbd-c306f275e8d3",
   "metadata": {},
   "source": [
    "`arange (start,end,step)`\n",
    "`linspace(0,2,9)` -> 9 numbers form 0 to 2"
   ]
  },
  {
   "cell_type": "code",
   "execution_count": 30,
   "id": "4ba000df-2460-4dea-94ed-ab2cf65b62b4",
   "metadata": {
    "tags": []
   },
   "outputs": [
    {
     "data": {
      "text/plain": [
       "array([0. , 0.3, 0.6, 0.9, 1.2, 1.5, 1.8])"
      ]
     },
     "execution_count": 30,
     "metadata": {},
     "output_type": "execute_result"
    }
   ],
   "source": [
    "np.arange(10,30,5)\n",
    "np.arange(0,2,0.3)"
   ]
  },
  {
   "cell_type": "code",
   "execution_count": 29,
   "id": "6c848f74-605f-4e86-b5ef-1392357e86c0",
   "metadata": {
    "tags": []
   },
   "outputs": [
    {
     "data": {
      "text/plain": [
       "array([0.  , 0.25, 0.5 , 0.75, 1.  , 1.25, 1.5 , 1.75, 2.  ])"
      ]
     },
     "execution_count": 29,
     "metadata": {},
     "output_type": "execute_result"
    }
   ],
   "source": [
    "np.linspace(0,2,9)"
   ]
  },
  {
   "cell_type": "markdown",
   "id": "e22905ca-e247-4447-a80f-b5e2995ebc0a",
   "metadata": {},
   "source": [
    "Example - arguments of function"
   ]
  },
  {
   "cell_type": "code",
   "execution_count": 225,
   "id": "7e3277f1-778a-43ee-90ef-e0292be7f581",
   "metadata": {
    "tags": []
   },
   "outputs": [
    {
     "data": {
      "image/png": "[encoded data removed]",
      "text/plain": [
       "<Figure size 640x480 with 1 Axes>"
      ]
     },
     "metadata": {},
     "output_type": "display_data"
    }
   ],
   "source": [
    "x = np.linspace(0,2*np.pi,100)\n",
    "x2 = np.linspace(0,2*np.pi,100)\n",
    "y = np.sin(x)\n",
    "y2= np.cos(x2)\n",
    "plt.plot(x,y,x2,y2)\n",
    "plt.title(\"Sine and cosine using np.linespace\")\n",
    "plt.show()"
   ]
  },
  {
   "cell_type": "markdown",
   "id": "94b80391-01f9-4e86-9b95-0ecc108f04e3",
   "metadata": {},
   "source": [
    "From function"
   ]
  },
  {
   "cell_type": "code",
   "execution_count": 159,
   "id": "f002d0e2-0f84-4d0f-870a-0b03ba76a6f1",
   "metadata": {
    "tags": []
   },
   "outputs": [
    {
     "data": {
      "text/plain": [
       "array([[ 0,  1,  2,  3],\n",
       "       [10, 11, 12, 13],\n",
       "       [20, 21, 22, 23],\n",
       "       [30, 31, 32, 33],\n",
       "       [40, 41, 42, 43]])"
      ]
     },
     "execution_count": 159,
     "metadata": {},
     "output_type": "execute_result"
    }
   ],
   "source": [
    "def f(x,y):\n",
    "    return 10*x + y\n",
    "\n",
    "b = np.fromfunction(f,(5,4),dtype=int)\n",
    "b"
   ]
  },
  {
   "cell_type": "markdown",
   "id": "c2e4110e-f5e1-4656-ac7a-0bf7352a609e",
   "metadata": {},
   "source": [
    "## Basic operations"
   ]
  },
  {
   "cell_type": "markdown",
   "id": "17bdd932-502a-4bb4-a3fa-f9a89c19ea7a",
   "metadata": {},
   "source": [
    "### Multiplication / bollean"
   ]
  },
  {
   "cell_type": "code",
   "execution_count": 103,
   "id": "62281ac8-5332-49ac-9272-8a3be750f2c4",
   "metadata": {
    "tags": []
   },
   "outputs": [
    {
     "data": {
      "text/plain": [
       "array([0, 1, 2, 3])"
      ]
     },
     "execution_count": 103,
     "metadata": {},
     "output_type": "execute_result"
    }
   ],
   "source": [
    "a = np.array([20,30,40,50])\n",
    "b = np.arange(4)\n",
    "b"
   ]
  },
  {
   "cell_type": "code",
   "execution_count": 106,
   "id": "92d0a681-0ac3-4d37-bde3-a5bff3b17c2e",
   "metadata": {
    "tags": []
   },
   "outputs": [
    {
     "data": {
      "text/plain": [
       "array([20, 29, 38, 47])"
      ]
     },
     "execution_count": 106,
     "metadata": {},
     "output_type": "execute_result"
    }
   ],
   "source": [
    "c = a-b\n",
    "c"
   ]
  },
  {
   "cell_type": "code",
   "execution_count": 107,
   "id": "0ff411e1-cd21-4959-8380-6e3098f932a1",
   "metadata": {
    "tags": []
   },
   "outputs": [
    {
     "data": {
      "text/plain": [
       "array([ 9.12945251, -9.88031624,  7.4511316 , -2.62374854])"
      ]
     },
     "execution_count": 107,
     "metadata": {},
     "output_type": "execute_result"
    }
   ],
   "source": [
    "10 * np.sin(a)"
   ]
  },
  {
   "cell_type": "code",
   "execution_count": 108,
   "id": "38cfde63-3a59-447f-91d9-8ad3f5839743",
   "metadata": {
    "tags": []
   },
   "outputs": [
    {
     "data": {
      "text/plain": [
       "array([ True,  True, False, False])"
      ]
     },
     "execution_count": 108,
     "metadata": {},
     "output_type": "execute_result"
    }
   ],
   "source": [
    "a < 35"
   ]
  },
  {
   "cell_type": "markdown",
   "id": "6a3120fe-d613-42b2-a64f-bc332e54af0b",
   "metadata": {},
   "source": [
    "### Scalar mul / dot - matrix multiplication"
   ]
  },
  {
   "cell_type": "code",
   "execution_count": 111,
   "id": "5bd8b930-07ce-4d18-b6bb-b6c59f3278d1",
   "metadata": {
    "tags": []
   },
   "outputs": [
    {
     "data": {
      "text/plain": [
       "array([[2, 0],\n",
       "       [0, 4]])"
      ]
     },
     "execution_count": 111,
     "metadata": {},
     "output_type": "execute_result"
    }
   ],
   "source": [
    "A = np.array([[1,1],\n",
    "              [0,1]])\n",
    "B = np.array([[2,0],\n",
    "              [3,4]])\n",
    "A*B"
   ]
  },
  {
   "cell_type": "code",
   "execution_count": 112,
   "id": "84e013bd-5341-451a-bc2e-5a7c82fb77e4",
   "metadata": {
    "tags": []
   },
   "outputs": [
    {
     "data": {
      "text/plain": [
       "array([[5, 4],\n",
       "       [3, 4]])"
      ]
     },
     "execution_count": 112,
     "metadata": {},
     "output_type": "execute_result"
    }
   ],
   "source": [
    "A@B"
   ]
  },
  {
   "cell_type": "code",
   "execution_count": 115,
   "id": "c85254ec-a654-4a15-8cdd-972649d00fc9",
   "metadata": {
    "tags": []
   },
   "outputs": [
    {
     "data": {
      "text/plain": [
       "array([[5, 4],\n",
       "       [3, 4]])"
      ]
     },
     "execution_count": 115,
     "metadata": {},
     "output_type": "execute_result"
    }
   ],
   "source": [
    "A.dot(B)"
   ]
  },
  {
   "cell_type": "code",
   "execution_count": 120,
   "id": "34ba0d09-953a-40cf-90ff-0fe1b44e77e2",
   "metadata": {
    "tags": []
   },
   "outputs": [
    {
     "data": {
      "text/plain": [
       "array([[1., 1., 1.],\n",
       "       [1., 1., 1.]])"
      ]
     },
     "execution_count": 120,
     "metadata": {},
     "output_type": "execute_result"
    }
   ],
   "source": [
    "a = np.ones((2,3))\n",
    "a"
   ]
  },
  {
   "cell_type": "code",
   "execution_count": 184,
   "id": "c9134506-9e33-4289-b6d6-f5779027d229",
   "metadata": {
    "tags": []
   },
   "outputs": [
    {
     "data": {
      "text/plain": [
       "array([[0.51182162, 0.9504637 , 0.14415961],\n",
       "       [0.94864945, 0.31183145, 0.42332645]])"
      ]
     },
     "execution_count": 184,
     "metadata": {},
     "output_type": "execute_result"
    }
   ],
   "source": [
    "rg = np.random.default_rng(1)\n",
    "r = rg.random((2,3))\n",
    "r"
   ]
  },
  {
   "cell_type": "code",
   "execution_count": 142,
   "id": "23d7b40c-970d-4769-886c-226d9319ee7e",
   "metadata": {
    "tags": []
   },
   "outputs": [
    {
     "name": "stdout",
     "output_type": "stream",
     "text": [
      "6.0 1.0 [[1. 2. 3.]\n",
      " [1. 2. 3.]]\n"
     ]
    }
   ],
   "source": [
    "print(a.sum(),a.min(),a.cumsum(axis=1))"
   ]
  },
  {
   "cell_type": "markdown",
   "id": "aa213378-f7af-4114-94d1-1b9a391f301c",
   "metadata": {},
   "source": [
    "### Indexing, slicing and iterating"
   ]
  },
  {
   "cell_type": "code",
   "execution_count": 144,
   "id": "af5c427f-968e-4c25-ae97-4507171d4830",
   "metadata": {
    "tags": []
   },
   "outputs": [
    {
     "data": {
      "text/plain": [
       "array([  0,   1,   8,  27,  64, 125, 216, 343, 512, 729], dtype=int32)"
      ]
     },
     "execution_count": 144,
     "metadata": {},
     "output_type": "execute_result"
    }
   ],
   "source": [
    "a4= np.arange(10)**3\n",
    "a4"
   ]
  },
  {
   "cell_type": "code",
   "execution_count": 146,
   "id": "784cd1f7-5515-4975-9b5d-4f136f725728",
   "metadata": {
    "tags": []
   },
   "outputs": [
    {
     "data": {
      "text/plain": [
       "8"
      ]
     },
     "execution_count": 146,
     "metadata": {},
     "output_type": "execute_result"
    }
   ],
   "source": [
    "a4[2]"
   ]
  },
  {
   "cell_type": "code",
   "execution_count": 147,
   "id": "28ad9a81-edcb-4389-bbde-f4c86a36b6d7",
   "metadata": {
    "tags": []
   },
   "outputs": [
    {
     "data": {
      "text/plain": [
       "array([ 8, 27, 64], dtype=int32)"
      ]
     },
     "execution_count": 147,
     "metadata": {},
     "output_type": "execute_result"
    }
   ],
   "source": [
    "a4[2:5]"
   ]
  },
  {
   "cell_type": "code",
   "execution_count": 149,
   "id": "9095ff09-01b7-44cc-b5db-080551feed48",
   "metadata": {
    "tags": []
   },
   "outputs": [
    {
     "data": {
      "text/plain": [
       "array([1000,    1, 1000,   27, 1000,  125,  216,  343,  512,  729],\n",
       "      dtype=int32)"
      ]
     },
     "execution_count": 149,
     "metadata": {},
     "output_type": "execute_result"
    }
   ],
   "source": [
    "a4[:5:2] = 1000\n",
    "a4"
   ]
  },
  {
   "cell_type": "code",
   "execution_count": 153,
   "id": "891ccefa-d7d9-4f49-a0a1-ce6652299354",
   "metadata": {
    "tags": []
   },
   "outputs": [
    {
     "data": {
      "text/plain": [
       "array([ 729,  512,  343,  216,  125, 1000,   27, 1000,    1, 1000],\n",
       "      dtype=int32)"
      ]
     },
     "execution_count": 153,
     "metadata": {},
     "output_type": "execute_result"
    }
   ],
   "source": [
    "a4[::-1]"
   ]
  },
  {
   "cell_type": "code",
   "execution_count": 167,
   "id": "42570367-5eb3-435c-b4a7-dcc59bb09afb",
   "metadata": {
    "tags": []
   },
   "outputs": [
    {
     "name": "stdout",
     "output_type": "stream",
     "text": [
      "1\n",
      "2\n",
      "3\n",
      "4\n"
     ]
    }
   ],
   "source": [
    "c = np.array([[1,2],[3,4]])\n",
    "for element in c.flat:\n",
    "    print(element)"
   ]
  },
  {
   "cell_type": "markdown",
   "id": "af758c90-ae08-4906-b6be-cd7b47c55dd9",
   "metadata": {},
   "source": [
    "### Changing the shape"
   ]
  },
  {
   "cell_type": "code",
   "execution_count": 208,
   "id": "9bfa5097-cb7f-4020-a1f6-25b659ee89ce",
   "metadata": {
    "tags": []
   },
   "outputs": [
    {
     "data": {
      "text/plain": [
       "array([[1., 2., 5., 3.],\n",
       "       [7., 6., 8., 7.],\n",
       "       [6., 2., 7., 2.]])"
      ]
     },
     "execution_count": 208,
     "metadata": {},
     "output_type": "execute_result"
    }
   ],
   "source": [
    "o = np.floor(10 * rg.random((3, 4)))\n",
    "o"
   ]
  },
  {
   "cell_type": "code",
   "execution_count": 209,
   "id": "53a87f37-9235-41eb-af66-150611d7e393",
   "metadata": {
    "tags": []
   },
   "outputs": [
    {
     "data": {
      "text/plain": [
       "array([1., 2., 5., 3., 7., 6., 8., 7., 6., 2., 7., 2.])"
      ]
     },
     "execution_count": 209,
     "metadata": {},
     "output_type": "execute_result"
    }
   ],
   "source": [
    "o.ravel()"
   ]
  },
  {
   "cell_type": "code",
   "execution_count": 210,
   "id": "08134caf-deb4-4205-8265-fbc0a815c383",
   "metadata": {
    "tags": []
   },
   "outputs": [
    {
     "data": {
      "text/plain": [
       "array([[1., 2.],\n",
       "       [5., 3.],\n",
       "       [7., 6.],\n",
       "       [8., 7.],\n",
       "       [6., 2.],\n",
       "       [7., 2.]])"
      ]
     },
     "execution_count": 210,
     "metadata": {},
     "output_type": "execute_result"
    }
   ],
   "source": [
    "o.reshape(6,2)"
   ]
  },
  {
   "cell_type": "code",
   "execution_count": 213,
   "id": "4cafcbb3-1e75-4f3a-bb13-397e8d1d0ea4",
   "metadata": {
    "tags": []
   },
   "outputs": [
    {
     "data": {
      "text/plain": [
       "array([[1., 2., 5., 3.],\n",
       "       [7., 6., 8., 7.],\n",
       "       [6., 2., 7., 2.]])"
      ]
     },
     "execution_count": 213,
     "metadata": {},
     "output_type": "execute_result"
    }
   ],
   "source": [
    "o.reshape(3,-1) #automaticly calculated"
   ]
  },
  {
   "cell_type": "code",
   "execution_count": 211,
   "id": "ec2f5351-1458-4d63-b355-09b439cb1383",
   "metadata": {
    "tags": []
   },
   "outputs": [
    {
     "data": {
      "text/plain": [
       "array([[1., 7., 6.],\n",
       "       [2., 6., 2.],\n",
       "       [5., 8., 7.],\n",
       "       [3., 7., 2.]])"
      ]
     },
     "execution_count": 211,
     "metadata": {},
     "output_type": "execute_result"
    }
   ],
   "source": [
    "o.T"
   ]
  },
  {
   "cell_type": "markdown",
   "id": "1e38f06e-256c-47b8-85d2-03722dd1570a",
   "metadata": {},
   "source": [
    "### Stacking different arrays"
   ]
  },
  {
   "cell_type": "code",
   "execution_count": 229,
   "id": "1b0933cc-5544-4ca1-83d5-950b8f12eade",
   "metadata": {
    "tags": []
   },
   "outputs": [
    {
     "data": {
      "text/plain": [
       "array([[5., 6.],\n",
       "       [0., 1.]])"
      ]
     },
     "execution_count": 229,
     "metadata": {},
     "output_type": "execute_result"
    }
   ],
   "source": [
    "a = np.floor(10*rg.random((2,2)))\n",
    "a"
   ]
  },
  {
   "cell_type": "code",
   "execution_count": 231,
   "id": "45f41915-f87b-4e11-857d-93d499eab07e",
   "metadata": {
    "tags": []
   },
   "outputs": [
    {
     "data": {
      "text/plain": [
       "array([[1., 5.],\n",
       "       [1., 7.]])"
      ]
     },
     "execution_count": 231,
     "metadata": {},
     "output_type": "execute_result"
    }
   ],
   "source": [
    "b = np.floor(10*rg.random((2,2)))\n",
    "b"
   ]
  },
  {
   "cell_type": "code",
   "execution_count": 233,
   "id": "6510e128-bf46-44ae-8251-60e36f055854",
   "metadata": {
    "tags": []
   },
   "outputs": [
    {
     "data": {
      "text/plain": [
       "array([[5., 6.],\n",
       "       [0., 1.],\n",
       "       [1., 5.],\n",
       "       [1., 7.]])"
      ]
     },
     "execution_count": 233,
     "metadata": {},
     "output_type": "execute_result"
    }
   ],
   "source": [
    "np.vstack((a,b))"
   ]
  },
  {
   "cell_type": "code",
   "execution_count": 234,
   "id": "510928a6-10dd-4f34-94f8-551956d332ab",
   "metadata": {
    "tags": []
   },
   "outputs": [
    {
     "data": {
      "text/plain": [
       "array([[5., 6., 1., 5.],\n",
       "       [0., 1., 1., 7.]])"
      ]
     },
     "execution_count": 234,
     "metadata": {},
     "output_type": "execute_result"
    }
   ],
   "source": [
    "np.hstack((a,b))"
   ]
  },
  {
   "cell_type": "markdown",
   "id": "33caa391-ffb1-4ae0-b741-a31aa6f99872",
   "metadata": {},
   "source": [
    "### Splittiong one array into several smaller ones"
   ]
  },
  {
   "cell_type": "code",
   "execution_count": 236,
   "id": "67aa071e-049d-4d53-b432-a114ac04129a",
   "metadata": {
    "tags": []
   },
   "outputs": [
    {
     "data": {
      "text/plain": [
       "array([[6., 0., 4., 6., 1., 3., 0., 0., 2., 4., 4., 8.],\n",
       "       [3., 0., 8., 0., 0., 9., 7., 3., 1., 3., 3., 8.]])"
      ]
     },
     "execution_count": 236,
     "metadata": {},
     "output_type": "execute_result"
    }
   ],
   "source": [
    "a = np.floor(10 * rg.random((2, 12)))\n",
    "a"
   ]
  },
  {
   "cell_type": "code",
   "execution_count": 239,
   "id": "d7aa05e1-876c-464e-bbfd-d1ee258c5c9b",
   "metadata": {
    "tags": []
   },
   "outputs": [
    {
     "data": {
      "text/plain": [
       "[array([[6., 0., 4., 6.],\n",
       "        [3., 0., 8., 0.]]),\n",
       " array([[1., 3., 0., 0.],\n",
       "        [0., 9., 7., 3.]]),\n",
       " array([[2., 4., 4., 8.],\n",
       "        [1., 3., 3., 8.]])]"
      ]
     },
     "execution_count": 239,
     "metadata": {},
     "output_type": "execute_result"
    }
   ],
   "source": [
    "np.hsplit(a,3)"
   ]
  },
  {
   "cell_type": "code",
   "execution_count": 241,
   "id": "4b538357-630e-4bab-a11c-60c845ae64ae",
   "metadata": {
    "tags": []
   },
   "outputs": [
    {
     "data": {
      "text/plain": [
       "[array([[6., 0., 4.],\n",
       "        [3., 0., 8.]]),\n",
       " array([[6.],\n",
       "        [0.]]),\n",
       " array([[1., 3., 0., 0., 2., 4., 4., 8.],\n",
       "        [0., 9., 7., 3., 1., 3., 3., 8.]])]"
      ]
     },
     "execution_count": 241,
     "metadata": {},
     "output_type": "execute_result"
    }
   ],
   "source": [
    "np.hsplit(a,(3,4))# split after the third and the fourth column "
   ]
  }
 ],
 "metadata": {
  "kernelspec": {
   "display_name": "Python 3 (ipykernel)",
   "language": "python",
   "name": "python3"
  },
  "language_info": {
   "codemirror_mode": {
    "name": "ipython",
    "version": 3
   },
   "file_extension": ".py",
   "mimetype": "text/x-python",
   "name": "python",
   "nbconvert_exporter": "python",
   "pygments_lexer": "ipython3",
   "version": "3.11.4"
  }
 },
 "nbformat": 4,
 "nbformat_minor": 5
}
